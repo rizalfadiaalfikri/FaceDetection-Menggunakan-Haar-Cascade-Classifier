{
 "cells": [
  {
   "cell_type": "code",
   "execution_count": 1,
   "metadata": {},
   "outputs": [],
   "source": [
    "import cv2"
   ]
  },
  {
   "cell_type": "code",
   "execution_count": 3,
   "metadata": {},
   "outputs": [],
   "source": [
    "def draw_ped(img,label,x0,y0,xt,yt,color=(0,0,255),text_color=(255,255,255)):\n",
    "    (w,h), baseline = cv2.getTextSize(label,cv2.FONT_HERSHEY_COMPLEX,0.5,1)\n",
    "    \n",
    "    cv2.rectangle(img,\n",
    "                 (x0, y0 + baseline),\n",
    "                 (max(xt, x0+ w), yt),\n",
    "                 color,\n",
    "                 2)\n",
    "    cv2.rectangle(img,\n",
    "                 (x0, y0 - h),\n",
    "                 (x0 + w, y0 + baseline),\n",
    "                 color,\n",
    "                 -1)\n",
    "    cv2.putText(img,\n",
    "               label,\n",
    "               (x0,y0),\n",
    "               cv2.FONT_HERSHEY_COMPLEX,\n",
    "               0.5,\n",
    "               text_color,\n",
    "               1,\n",
    "               cv2.LINE_AA)\n",
    "    return img"
   ]
  },
  {
   "cell_type": "markdown",
   "metadata": {},
   "source": [
    "## Face Detection Using Webcam"
   ]
  },
  {
   "cell_type": "code",
   "execution_count": 4,
   "metadata": {},
   "outputs": [],
   "source": [
    "face_cascade = cv2.CascadeClassifier(\"haarcascades/haarcascade_frontalface_default.xml\")\n",
    "cap = cv2.VideoCapture(0)\n",
    "\n",
    "while cap.isOpened():\n",
    "    ret,frame = cap.read()\n",
    "    \n",
    "    if ret :\n",
    "        \n",
    "        gray = cv2.cvtColor(frame,cv2.COLOR_BGR2GRAY)\n",
    "        faces = face_cascade.detectMultiScale(gray,1.3,5)\n",
    "        \n",
    "        for (x,y,w,h) in faces :\n",
    "            frame = draw_ped(frame,\"Faces\",x,y,x+w,y+h)\n",
    "        \n",
    "        cv2.imshow(\"Frame\",frame)\n",
    "        \n",
    "        if cv2.waitKey(1) == ord('q') :\n",
    "            break\n",
    "                   \n",
    "cap.release()\n",
    "cv2.destroyAllWindows()"
   ]
  },
  {
   "cell_type": "markdown",
   "metadata": {},
   "source": [
    "## Face Detection Using Image"
   ]
  },
  {
   "cell_type": "code",
   "execution_count": 9,
   "metadata": {},
   "outputs": [],
   "source": [
    "img = cv2.imread(\"img/family.jpg\")\n",
    "face_cascade = cv2.CascadeClassifier(\"haarcascades/haarcascade_frontalface_default.xml\")\n",
    "\n",
    "gray = cv2.cvtColor(img,cv2.COLOR_BGR2GRAY)\n",
    "faces = face_cascade.detectMultiScale(gray,1.3,5)\n",
    "\n",
    "for (x,y,w,h) in faces:\n",
    "    img = cv2.rectangle(img,(x,y),(x+w,y+h),(0,0,255),3)\n",
    "    \n",
    "cv2.imshow(\"Frame\",img)\n",
    "\n",
    "cv2.waitKey(0)\n",
    "cv2.destroyAllWindows()    "
   ]
  },
  {
   "cell_type": "code",
   "execution_count": null,
   "metadata": {},
   "outputs": [],
   "source": []
  }
 ],
 "metadata": {
  "kernelspec": {
   "display_name": "Python [conda env:belajar_cv]",
   "language": "python",
   "name": "conda-env-belajar_cv-py"
  },
  "language_info": {
   "codemirror_mode": {
    "name": "ipython",
    "version": 3
   },
   "file_extension": ".py",
   "mimetype": "text/x-python",
   "name": "python",
   "nbconvert_exporter": "python",
   "pygments_lexer": "ipython3",
   "version": "3.8.5"
  },
  "varInspector": {
   "cols": {
    "lenName": 16,
    "lenType": 16,
    "lenVar": 40
   },
   "kernels_config": {
    "python": {
     "delete_cmd_postfix": "",
     "delete_cmd_prefix": "del ",
     "library": "var_list.py",
     "varRefreshCmd": "print(var_dic_list())"
    },
    "r": {
     "delete_cmd_postfix": ") ",
     "delete_cmd_prefix": "rm(",
     "library": "var_list.r",
     "varRefreshCmd": "cat(var_dic_list()) "
    }
   },
   "types_to_exclude": [
    "module",
    "function",
    "builtin_function_or_method",
    "instance",
    "_Feature"
   ],
   "window_display": false
  }
 },
 "nbformat": 4,
 "nbformat_minor": 4
}
